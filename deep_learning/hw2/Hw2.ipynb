{
 "cells": [
  {
   "cell_type": "markdown",
   "id": "pLsI6Mpf76wm",
   "metadata": {
    "id": "pLsI6Mpf76wm"
   },
   "source": [
    "# HW2"
   ]
  },
  {
   "cell_type": "code",
   "execution_count": 1,
   "id": "f6982465",
   "metadata": {
    "id": "f6982465"
   },
   "outputs": [],
   "source": [
    "# Name: Hasan F. Durkaya\n",
    "# ID: 504241526;"
   ]
  },
  {
   "cell_type": "markdown",
   "id": "4d16488f",
   "metadata": {
    "id": "4d16488f"
   },
   "source": [
    "## PART I - Convolutional Neural Networks [12 pts]\n",
    "\n",
    "In this part of assignment, first we will implement convolution operation in 2 dimensions, then we will move to a Deep Learning framework for faster computation via GPUs!\n",
    "\n",
    "In this assignment, we will use the same API as in Assignment 1. You have implemented most of the required layers. You will add Conv2d layer under `DL/CNN.py`"
   ]
  },
  {
   "cell_type": "code",
   "execution_count": 2,
   "id": "d5a681fd",
   "metadata": {
    "id": "d5a681fd"
   },
   "outputs": [],
   "source": [
    "from DL.CNN import Conv2d\n",
    "from DL.checker.checks import *\n",
    "import numpy as np\n",
    "from DL.regularizers import Dropout, MaxPool2d, AveragePool2d, BatchNorm, BatchNorm2d\n",
    "%load_ext autoreload\n",
    "%autoreload 2\n",
    "%reload_ext autoreload"
   ]
  },
  {
   "cell_type": "code",
   "execution_count": 3,
   "id": "3d8a84cc",
   "metadata": {
    "id": "3d8a84cc"
   },
   "outputs": [],
   "source": [
    "# Additional imports\n",
    "import matplotlib.pyplot as plt\n",
    "import warnings\n",
    "import itertools\n",
    "from tqdm import tqdm"
   ]
  },
  {
   "cell_type": "markdown",
   "id": "7cc5e2d3",
   "metadata": {
    "id": "e3b381bf"
   },
   "source": [
    "### Convolutional Layer\n",
    "Implement and call the forward and backward passes for the convolutional layer in conv2d."
   ]
  },
  {
   "cell_type": "markdown",
   "id": "e3b381bf",
   "metadata": {
    "id": "e3b381bf"
   },
   "source": [
    "#### Forward Pass  [6 pts]"
   ]
  },
  {
   "cell_type": "code",
   "execution_count": 4,
   "id": "ac9704df",
   "metadata": {
    "id": "ac9704df"
   },
   "outputs": [
    {
     "name": "stdout",
     "output_type": "stream",
     "text": [
      "Testing conv_forward_naive\n",
      "difference:  1.2496779136951377e-08\n"
     ]
    }
   ],
   "source": [
    "conv = Conv2d(in_size=1, out_size=1, kernel_size=4, stride=2, padding=1)\n",
    "x_shape = (2, 3, 4, 4)\n",
    "w_shape = (3, 3, 4, 4)\n",
    "x = np.linspace(-0.1, 0.4, num=np.prod(x_shape)).reshape(x_shape)\n",
    "conv.W = np.linspace(-0.2, 0.3, num=np.prod(w_shape)).reshape(w_shape)\n",
    "conv.b = np.linspace(-0.2, 0.3, num=3)\n",
    "\n",
    "\n",
    "out = conv.forward(x)\n",
    "# difference should be around 2e-8\n",
    "print('Testing conv_forward_naive')\n",
    "relError = rel_error(out, \"CNN_forward\")\n",
    "print(f'difference: ', relError)\n",
    "assert 2.9e-8 > relError"
   ]
  },
  {
   "cell_type": "markdown",
   "id": "d1055d6e",
   "metadata": {
    "id": "d1055d6e"
   },
   "source": [
    "#### Backward Pass  [6 pts]"
   ]
  },
  {
   "cell_type": "code",
   "execution_count": 5,
   "id": "ded79c5f",
   "metadata": {
    "id": "ded79c5f"
   },
   "outputs": [
    {
     "name": "stdout",
     "output_type": "stream",
     "text": [
      "dx error: 2.0005888887163505e-06\n",
      "dw error: 1.0721666659468113e-06\n",
      "db error: 5.15068608479221e-12\n"
     ]
    }
   ],
   "source": [
    "np.random.seed(250)\n",
    "conv = Conv2d(in_size=1, out_size=2, stride=1, padding=1, kernel_size=3)\n",
    "\n",
    "x = np.random.randn(3, 1, 6, 6)\n",
    "conv.W = np.random.randn(2, 1, 3, 3)\n",
    "conv.b = np.random.randn(2,)\n",
    "dout = np.random.randn(3, 2, 6, 6)\n",
    "\n",
    "dx_num = grad_check(lambda _: conv.forward(x), x, dout)\n",
    "dw_num = grad_check(lambda _: conv.forward(x), conv.W, dout)\n",
    "db_num = grad_check(lambda _: conv.forward(x), conv.b, dout)\n",
    "\n",
    "out = conv.forward(x)\n",
    "dx, dw, db = conv.backward(dout)\n",
    "\n",
    "print(f'dx error: {rel_error(dx, dx_num)}')\n",
    "print(f'dw error: {rel_error(dw, dw_num)}')\n",
    "print(f'db error: {rel_error(db, db_num)}')"
   ]
  },
  {
   "cell_type": "markdown",
   "id": "755b3161",
   "metadata": {
    "id": "755b3161"
   },
   "source": [
    "## PART II - Regularizers and Pooling  [32 pts]\n",
    "\n",
    "You are going to implement regularization techniques widely used until recently in convolutional networks such as **Max Pooling** and **Dropout**\n",
    "\n",
    "Find `Dropout`, `MaxPool2d`, `AveragePool2d`, `BatchNorm` and `BatchNorm2d` classes in **`DL/regularizers.py`** and complete the implementation of `forward` and `backward` methods for both of them."
   ]
  },
  {
   "cell_type": "markdown",
   "id": "2c018ab5",
   "metadata": {
    "id": "968c48e7"
   },
   "source": [
    "### Dropout layer\n",
    "\n",
    "As we covered in the class, dropout is a well-known regularization technique for preventing overfitting of neural networks. What dropout does is basically zeroing out of some outputs of hidden layers at random. We recommend you to multiply the dropout factor with outputs in forward pass as it is done in common implementations. Recall that this is called **Inverted Dropout**.\n",
    "\n",
    "For more information on dropout, you can check the paper below.\n",
    "\n",
    "**Improving neural networks by preventing co-adaptation of feature detectors**, Hinton et al.\n",
    "https://arxiv.org/pdf/1207.0580.pdf"
   ]
  },
  {
   "cell_type": "markdown",
   "id": "968c48e7",
   "metadata": {
    "id": "968c48e7"
   },
   "source": [
    "#### Forward pass  [3 pts]"
   ]
  },
  {
   "cell_type": "code",
   "execution_count": 6,
   "id": "2e13cab4",
   "metadata": {
    "id": "2e13cab4"
   },
   "outputs": [
    {
     "name": "stdout",
     "output_type": "stream",
     "text": [
      "Dropout rate is: 0.3\n",
      "Percent of how much of input is zeroed out in training  0.29983, in testing 0.00000\n",
      "Dropout rate is: 0.5\n",
      "Percent of how much of input is zeroed out in training  0.50072, in testing 0.00000\n",
      "Dropout rate is: 0.8\n",
      "Percent of how much of input is zeroed out in training  0.80032, in testing 0.00000\n"
     ]
    }
   ],
   "source": [
    "np.random.seed(250)\n",
    "\n",
    "x = np.random.randn(500, 2000) + 250\n",
    "for p in [0.3, 0.5, 0.8]:\n",
    "    dropout = Dropout(p=p)\n",
    "    dropout.mode = 'train'\n",
    "    out = dropout.forward(x)\n",
    "    dropout.mode = 'test'\n",
    "    out_test = dropout.forward(x)\n",
    "\n",
    "    print(f'Dropout rate is: {p}')\n",
    "    print(f'Percent of how much of input is zeroed out in training  {(out == 0).mean():.5f}, in testing {(out_test == 0).mean():.5f}')\n",
    "\n",
    "# You can check wheter your implemention is true or not by looking at the percent of outputs set to zero"
   ]
  },
  {
   "cell_type": "markdown",
   "id": "30fa331f",
   "metadata": {
    "id": "30fa331f"
   },
   "source": [
    "#### Backward pass  [3 pts]"
   ]
  },
  {
   "cell_type": "code",
   "execution_count": 7,
   "id": "8f9001b6",
   "metadata": {
    "id": "8f9001b6"
   },
   "outputs": [
    {
     "name": "stdout",
     "output_type": "stream",
     "text": [
      "Error on dx 1.892896245652478e-11\n"
     ]
    }
   ],
   "source": [
    "dropout = Dropout(p=0.75)\n",
    "np.random.seed(250)\n",
    "x = np.random.randn(12, 12) + 11\n",
    "dout = np.random.randn(*x.shape)\n",
    "\n",
    "\n",
    "out = dropout.forward(x,seed=250)\n",
    "dx = dropout.backward(dout)\n",
    "dx_num = grad_check(lambda xx: dropout.forward(xx, seed=250), x, dout)\n",
    "\n",
    "relError = rel_error(dx, dx_num)\n",
    "print(f'Error on dx {relError}')\n",
    "assert 5e-10 > relError"
   ]
  },
  {
   "cell_type": "markdown",
   "id": "83addef7",
   "metadata": {
    "id": "83addef7"
   },
   "source": [
    "### MaxPool\n",
    "#### Forward Pass  [3 pts]"
   ]
  },
  {
   "cell_type": "code",
   "execution_count": 8,
   "id": "e8fffb38",
   "metadata": {
    "id": "e8fffb38"
   },
   "outputs": [
    {
     "name": "stdout",
     "output_type": "stream",
     "text": [
      "Error: 5.000002532280781e-07\n"
     ]
    }
   ],
   "source": [
    "x_shape = (3, 3, 7, 7)\n",
    "x = np.linspace(-0.2, 0.4, num=np.prod(x_shape)).reshape(x_shape)\n",
    "maxPool = MaxPool2d(stride = 2, pool_width = 3, pool_height = 3)\n",
    "out = maxPool.forward(x)\n",
    "\n",
    "relError = rel_error(out, \"maxpool_forward\")\n",
    "print(f'Error: {relError}')\n",
    "assert 1e-6 > relError"
   ]
  },
  {
   "cell_type": "markdown",
   "id": "efa8a2a4",
   "metadata": {
    "id": "efa8a2a4"
   },
   "source": [
    "#### Backward pass  [3 pts]"
   ]
  },
  {
   "cell_type": "code",
   "execution_count": 9,
   "id": "c8acbbea",
   "metadata": {
    "id": "c8acbbea"
   },
   "outputs": [
    {
     "name": "stdout",
     "output_type": "stream",
     "text": [
      "Testing max_pool_backward_naive function:\n",
      "dx error: 3.2756303484042576e-12\n"
     ]
    }
   ],
   "source": [
    "np.random.seed(250)\n",
    "x = np.random.randn(8, 1, 10, 10)\n",
    "dout = np.random.randn(8, 1, 5, 5)\n",
    "max_pool = MaxPool2d(pool_height=2, pool_width=2, stride=2)\n",
    "dx_num = grad_check(lambda x: max_pool.forward(x), x, dout)\n",
    "\n",
    "out = max_pool.forward(x)\n",
    "dx = max_pool.backward(dout)\n",
    "\n",
    "# Your error should be around 1e-12\n",
    "print('Testing max_pool_backward_naive function:')\n",
    "relError = rel_error(dx, dx_num)\n",
    "print(f'dx error: {relError}')\n",
    "assert 5e-12 > relError"
   ]
  },
  {
   "cell_type": "markdown",
   "id": "7e611bf2",
   "metadata": {
    "id": "7e611bf2"
   },
   "source": [
    "### AveragePool\n",
    "#### Forward Pass  [3 pts]"
   ]
  },
  {
   "cell_type": "code",
   "execution_count": 10,
   "id": "af188f7b",
   "metadata": {
    "id": "af188f7b"
   },
   "outputs": [
    {
     "name": "stdout",
     "output_type": "stream",
     "text": [
      "Error: 1.5999997413537592e-07\n"
     ]
    }
   ],
   "source": [
    "x_shape = (3, 3, 7, 7)\n",
    "x = np.linspace(-0.2, 0.4, num=np.prod(x_shape)).reshape(x_shape)\n",
    "average_pool = AveragePool2d(stride = 2, pool_width = 3, pool_height = 3)\n",
    "out = average_pool.forward(x)\n",
    "\n",
    "relError = rel_error(out, \"averagepool_forward\")\n",
    "print(f'Error: {relError}')\n",
    "assert 2e-7 > relError"
   ]
  },
  {
   "cell_type": "markdown",
   "id": "69173012",
   "metadata": {
    "id": "69173012"
   },
   "source": [
    "#### Backward Pass  [3 pts]"
   ]
  },
  {
   "cell_type": "code",
   "execution_count": 11,
   "id": "bb97f345",
   "metadata": {
    "id": "bb97f345"
   },
   "outputs": [
    {
     "name": "stdout",
     "output_type": "stream",
     "text": [
      "Testing average_pool_backward_naive function:\n",
      "dx error: 2.548002714286369e-11\n"
     ]
    }
   ],
   "source": [
    "np.random.seed(250)\n",
    "x = np.random.randn(8, 1, 10, 10)\n",
    "dout = np.random.randn(8, 1, 5, 5)\n",
    "average_pool = AveragePool2d(pool_height=2, pool_width=2, stride=2)\n",
    "dx_num = grad_check(lambda x: average_pool.forward(x), x, dout)\n",
    "\n",
    "out = average_pool.forward(x)\n",
    "dx = average_pool.backward(dout)\n",
    "\n",
    "# Your error should be around 1e-11\n",
    "print('Testing average_pool_backward_naive function:')\n",
    "relError = rel_error(dx, dx_num)\n",
    "print(f'dx error: {relError}')\n",
    "assert 5e-10 > relError"
   ]
  },
  {
   "cell_type": "markdown",
   "id": "03f054d7",
   "metadata": {
    "id": "03f054d7"
   },
   "source": [
    "### Batch Normalization 1D\n",
    "\n",
    "#### Forward Pass  [3 pts]\n",
    "First read and understand the paper:\n",
    "\n",
    "S. Ioffe, C. Szegedy. 2015. Batch Normalization: Accelerating Deep Network Training by Reducing Internal Covariate Shift\n",
    "https://arxiv.org/pdf/1502.03167.pdf\n",
    "\n",
    "Implement the forward and backward passes for the Batch Normalization technique."
   ]
  },
  {
   "cell_type": "code",
   "execution_count": 12,
   "id": "61f5bd07",
   "metadata": {
    "id": "61f5bd07"
   },
   "outputs": [
    {
     "name": "stdout",
     "output_type": "stream",
     "text": [
      "Without using batchnorm\n",
      "\t mean of each feature/channel: [3.26114746 2.70715814 2.91144663]\n",
      "\t stds of each feature/channel: [4.45385032 4.31325161 4.22674193]\n",
      "Stats after batch normalization with gamma=1, beta=0\n",
      "\t mean: [ 3.71307923e-16 -5.11936172e-17 -2.34380416e-17]\n",
      "\t std: [0.99999975 0.99999973 0.99999972]\n",
      "Stats after batch normalization with arbitirary parameters\n",
      "\t mean: [4. 2. 5.]\n",
      "\t std: [2.99999924 1.99999946 0.99999972]\n"
     ]
    }
   ],
   "source": [
    "# You should understand how the gamma and beta parameters affect to the output\n",
    "\n",
    "# An example of a single hidden layer with ReLU activation.\n",
    "np.random.seed(250)\n",
    "N, D1, D2 = 180, 60, 3,\n",
    "X = np.random.randn(N, D1)\n",
    "W1 = np.random.randn(D1, D2)\n",
    "a = np.maximum(0, X.dot(W1))\n",
    "\n",
    "bn1 = BatchNorm(D2)\n",
    "\n",
    "print('Without using batchnorm')\n",
    "print(f'\\t mean of each feature/channel: {a.mean(axis=0)}')\n",
    "print(f'\\t stds of each feature/channel: {a.std(axis=0)}')\n",
    "\n",
    "\n",
    "print('Stats after batch normalization with gamma=1, beta=0')\n",
    "normalized = bn1.forward(a)\n",
    "print(f'\\t mean: {normalized.mean(axis=0)}')\n",
    "print(f'\\t std: {normalized.std(axis=0)}')\n",
    "\n",
    "\n",
    "bn1.gamma = np.array([3.0, 2.0, 1.0])\n",
    "bn1.beta = np.array([4, 2, 5])\n",
    "normalized  = bn1.forward(a)\n",
    "print('Stats after batch normalization with arbitirary parameters')\n",
    "print(f'\\t mean: {normalized.mean(axis=0)}')\n",
    "print(f'\\t std: {normalized.std(axis=0)}')"
   ]
  },
  {
   "cell_type": "markdown",
   "id": "1c249d01",
   "metadata": {
    "id": "1c249d01"
   },
   "source": [
    "#### Backward pass  [5 pts]"
   ]
  },
  {
   "cell_type": "code",
   "execution_count": 13,
   "id": "1dc2be41",
   "metadata": {
    "id": "1dc2be41"
   },
   "outputs": [
    {
     "name": "stdout",
     "output_type": "stream",
     "text": [
      "dx error: 1.0229882253791266e-08\n",
      "dgamma error: 5.47168175755361e-11\n",
      "dbeta error: 4.821210056265905e-12\n"
     ]
    }
   ],
   "source": [
    "# Gradient check batchnorm backward pass\n",
    "np.random.seed(250)\n",
    "N, D = 20, 6\n",
    "x = 3 * np.random.randn(N, D) + 9\n",
    "\n",
    "bn1 = BatchNorm(D)\n",
    "gamma = np.random.randn(D)\n",
    "beta = np.random.randn(D)\n",
    "dout = np.random.randn(N, D)\n",
    "\n",
    "fx = lambda x: bn1.forward(x, gamma=gamma, beta=beta)\n",
    "fg = lambda a: bn1.forward(x, gamma=a, beta=beta)\n",
    "fb = lambda b: bn1.forward(x, gamma=gamma, beta=b)\n",
    "\n",
    "dx_num = grad_check(fx, x, dout)\n",
    "da_num = grad_check(fg, gamma.copy(), dout)\n",
    "db_num = grad_check(fb, beta.copy(), dout)\n",
    "\n",
    "bn1.forward(x, gamma=gamma, beta=beta)\n",
    "dx, dgamma, dbeta = bn1.backward(dout)\n",
    "\n",
    "relError = rel_error(dx_num, dx)\n",
    "print(f'dx error: {relError}')\n",
    "assert 1e-7 > relError\n",
    "\n",
    "relError = rel_error(da_num, dgamma)\n",
    "print(f'dgamma error: {relError}')\n",
    "assert 1e-10 > relError\n",
    "\n",
    "relError = rel_error(db_num, dbeta)\n",
    "print(f'dbeta error: {relError}')\n",
    "assert 1e-11 > relError"
   ]
  },
  {
   "cell_type": "markdown",
   "id": "TiYFrOyMtTfG",
   "metadata": {
    "id": "TiYFrOyMtTfG"
   },
   "source": [
    "### Batch Normalization 2D\n",
    "#### Forward Pass  [2 pts]\n",
    "\n",
    "Implement BatchNorm2d. This computes statistics per-channel over batch as in pytorch-Batchnorm2D. You can take the Pytorch documentation as reference.\n",
    "https://pytorch.org/docs/stable/generated/torch.nn.BatchNorm2d.html"
   ]
  },
  {
   "cell_type": "code",
   "execution_count": 14,
   "id": "dtxa1K6GtT-m",
   "metadata": {
    "id": "dtxa1K6GtT-m"
   },
   "outputs": [
    {
     "name": "stdout",
     "output_type": "stream",
     "text": [
      "Without using BatchNorm2d\n",
      "\t mean of each channel: [1.02624607 0.47773465 2.99564553]\n",
      "\t std of each channel: [1.9763066  2.95446124 1.00477191]\n",
      "\n",
      "Stats after BatchNorm2d normalization with gamma=1, beta=0\n",
      "\t mean: [3.60205692e-17 1.81583144e-17 4.04614613e-18]\n",
      "\t std: [0.99999488 0.99999484 0.99999505]\n",
      "\n",
      "Stats after BatchNorm2d normalization with arbitrary parameters\n",
      "\t mean: [4. 2. 5.]\n",
      "\t std: [2.99998464 1.99998969 0.99999505]\n"
     ]
    }
   ],
   "source": [
    "np.random.seed(250)\n",
    "N, C, H, W = 180, 3, 5, 5  # Batch size, channels, height, width\n",
    "\n",
    "# Generating random data with the correct shape\n",
    "X = np.random.randn(N, C, H, W)\n",
    "\n",
    "W = np.array([2., 3., 1.]).reshape((1,C,1,1))\n",
    "b = np.array([1., 0.5, 3.]).reshape((1,C,1,1))\n",
    "# Reshaping for the linear layer - simulating a linear transformation\n",
    "a = W*X + b\n",
    "\n",
    "# Creating a BatchNorm2d instance for the specified number of channels\n",
    "bn2d = BatchNorm2d(C)\n",
    "\n",
    "print('Without using BatchNorm2d')\n",
    "print(f'\\t mean of each channel: {a.mean(axis=(0,2,3))}')\n",
    "print(f'\\t std of each channel: {a.std(axis=(0,2,3))}')\n",
    "\n",
    "# Using BatchNorm2d with default parameters (gamma=1, beta=0)\n",
    "normalized = bn2d.forward(X)\n",
    "print('\\nStats after BatchNorm2d normalization with gamma=1, beta=0')\n",
    "print(f'\\t mean: {normalized.mean(axis=(0, 2, 3))}')\n",
    "print(f'\\t std: {normalized.std(axis=(0, 2, 3))}')\n",
    "\n",
    "# Changing gamma and beta parameters\n",
    "bn2d.gamma = np.array([3.0, 2.0, 1.0]).reshape((1,C,1,1))\n",
    "bn2d.beta = np.array([4, 2, 5]).reshape((1,C,1,1))\n",
    "normalized = bn2d.forward(X)\n",
    "\n",
    "print('\\nStats after BatchNorm2d normalization with arbitrary parameters')\n",
    "print(f'\\t mean: {normalized.mean(axis=(0, 2, 3))}')\n",
    "print(f'\\t std: {normalized.std(axis=(0, 2, 3))}')"
   ]
  },
  {
   "cell_type": "markdown",
   "id": "K-BKhau-n31Q",
   "metadata": {
    "id": "K-BKhau-n31Q"
   },
   "source": [
    "#### Backward pass  [4 pts]"
   ]
  },
  {
   "cell_type": "code",
   "execution_count": 15,
   "id": "2Kr9Cvzln4ge",
   "metadata": {
    "id": "2Kr9Cvzln4ge"
   },
   "outputs": [
    {
     "name": "stdout",
     "output_type": "stream",
     "text": [
      "dx error: 2.5559203585304448e-08\n",
      "dgamma error: 5.3621226844179e-12\n",
      "dbeta error: 3.275536604975915e-12\n"
     ]
    }
   ],
   "source": [
    "np.random.seed(250)\n",
    "N, C, H, W = 10, 3, 4, 4  # Batch size, channels, height, width\n",
    "\n",
    "x = 3 * np.random.randn(N, C, H, W) + 7\n",
    "\n",
    "bn2d = BatchNorm2d(C)\n",
    "gamma = np.random.randn(C).reshape((1,C,1,1))\n",
    "beta = np.random.randn(C).reshape((1,C,1,1))\n",
    "dout = np.random.randn(N, C, H, W)\n",
    "\n",
    "# Function to be used for numerical gradient calculation\n",
    "fx = lambda x: bn2d.forward(x, gamma=gamma, beta=beta)\n",
    "fg = lambda g: bn2d.forward(x, gamma=g, beta=beta)\n",
    "fb = lambda b: bn2d.forward(x, gamma=gamma, beta=b)\n",
    "\n",
    "# Gradient check for dx (input)\n",
    "dx_num = grad_check(fx, x, dout)\n",
    "\n",
    "# Gradient check for dgamma (gamma parameter)\n",
    "da_num = grad_check(fg, gamma.copy(), dout)\n",
    "\n",
    "# Gradient check for dbeta (beta parameter)\n",
    "db_num = grad_check(fb, beta.copy(), dout)\n",
    "\n",
    "# Perform the backward pass to get gradients from the BatchNorm2d layer\n",
    "bn2d.forward(x, gamma=gamma, beta=beta)\n",
    "dx, dgamma, dbeta = bn2d.backward(dout)\n",
    "\n",
    "# Calculate relative errors for each gradient\n",
    "rel_error_dx = rel_error(dx_num, dx)\n",
    "print(f'dx error: {rel_error_dx}')\n",
    "assert rel_error_dx < 1e-7\n",
    "\n",
    "rel_error_dgamma = rel_error(da_num, dgamma)\n",
    "print(f'dgamma error: {rel_error_dgamma}')\n",
    "assert rel_error_dgamma < 1e-10\n",
    "\n",
    "rel_error_dbeta = rel_error(db_num, dbeta)\n",
    "print(f'dbeta error: {rel_error_dbeta}')\n",
    "assert rel_error_dbeta < 1e-11"
   ]
  },
  {
   "cell_type": "markdown",
   "id": "76450a54",
   "metadata": {
    "id": "76450a54"
   },
   "source": [
    "# PART III - Convolutional Neural Networks vs ResNets [28 pts]\n",
    "\n",
    "You can use Google Colab for the rest of the homework.\n",
    "\n",
    "## Environment setup\n",
    "Follow the tutorial about how to utilize Google Colab but **don't install PyTorch** as mentioned in the blog post.\n",
    "\n",
    "English:\n",
    "https://medium.com/deep-learning-turkey/google-colab-free-gpu-tutorial-e113627b9f5d\n"
   ]
  },
  {
   "cell_type": "code",
   "execution_count": 16,
   "id": "a845d1e5",
   "metadata": {
    "id": "a845d1e5"
   },
   "outputs": [
    {
     "name": "stdout",
     "output_type": "stream",
     "text": [
      "Sun Dec 22 19:06:14 2024       \n",
      "+-----------------------------------------------------------------------------------------+\n",
      "| NVIDIA-SMI 560.94                 Driver Version: 560.94         CUDA Version: 12.6     |\n",
      "|-----------------------------------------+------------------------+----------------------+\n",
      "| GPU  Name                  Driver-Model | Bus-Id          Disp.A | Volatile Uncorr. ECC |\n",
      "| Fan  Temp   Perf          Pwr:Usage/Cap |           Memory-Usage | GPU-Util  Compute M. |\n",
      "|                                         |                        |               MIG M. |\n",
      "|=========================================+========================+======================|\n",
      "|   0  NVIDIA GeForce RTX 3060 Ti   WDDM  |   00000000:2B:00.0  On |                  N/A |\n",
      "| 30%   48C    P8             26W /  200W |     453MiB /   8192MiB |     28%      Default |\n",
      "|                                         |                        |                  N/A |\n",
      "+-----------------------------------------+------------------------+----------------------+\n",
      "                                                                                         \n",
      "+-----------------------------------------------------------------------------------------+\n",
      "| Processes:                                                                              |\n",
      "|  GPU   GI   CI        PID   Type   Process name                              GPU Memory |\n",
      "|        ID   ID                                                               Usage      |\n",
      "|=========================================================================================|\n",
      "|    0   N/A  N/A       728    C+G   ...ekyb3d8bbwe\\PhoneExperienceHost.exe      N/A      |\n",
      "|    0   N/A  N/A      3752    C+G   ...CBS_cw5n1h2txyewy\\TextInputHost.exe      N/A      |\n",
      "|    0   N/A  N/A      5044    C+G   ...t.LockApp_cw5n1h2txyewy\\LockApp.exe      N/A      |\n",
      "|    0   N/A  N/A      6904    C+G   ...n\\131.0.2903.112\\msedgewebview2.exe      N/A      |\n",
      "|    0   N/A  N/A      7108    C+G   ...siveControlPanel\\SystemSettings.exe      N/A      |\n",
      "|    0   N/A  N/A      8892    C+G   ...AppData\\Roaming\\Spotify\\Spotify.exe      N/A      |\n",
      "|    0   N/A  N/A     10708    C+G   ...2txyewy\\StartMenuExperienceHost.exe      N/A      |\n",
      "|    0   N/A  N/A     13836    C+G   ...5n1h2txyewy\\ShellExperienceHost.exe      N/A      |\n",
      "|    0   N/A  N/A     15200    C+G   ...oogle\\Chrome\\Application\\chrome.exe      N/A      |\n",
      "|    0   N/A  N/A     16936    C+G   ...Programs\\Microsoft VS Code\\Code.exe      N/A      |\n",
      "|    0   N/A  N/A     16988    C+G   C:\\Windows\\explorer.exe                     N/A      |\n",
      "|    0   N/A  N/A     17784    C+G   ....Search_cw5n1h2txyewy\\SearchApp.exe      N/A      |\n",
      "|    0   N/A  N/A     18176    C+G   ....Search_cw5n1h2txyewy\\SearchApp.exe      N/A      |\n",
      "|    0   N/A  N/A     19996    C+G   ...oogle\\Chrome\\Application\\chrome.exe      N/A      |\n",
      "+-----------------------------------------------------------------------------------------+\n"
     ]
    }
   ],
   "source": [
    "!nvidia-smi\n",
    "# This command should return some information about the GPU status if the runtime is right.\n",
    "# In addition to that, if you encounter memory issues, you can diagnose your model by this command."
   ]
  },
  {
   "cell_type": "code",
   "execution_count": 17,
   "id": "00a1546b",
   "metadata": {
    "id": "00a1546b"
   },
   "outputs": [],
   "source": [
    "import numpy as np\n",
    "import random\n",
    "import os\n",
    "import matplotlib.pyplot as plt\n",
    "\n",
    "import torch\n",
    "from torch import nn, optim\n",
    "from torchvision import transforms, datasets\n",
    "from torch.utils.data import DataLoader, Dataset\n",
    "import torch.nn.functional as F\n",
    "from torchvision import utils\n",
    "import torchvision\n",
    "from tqdm import tqdm\n"
   ]
  },
  {
   "cell_type": "code",
   "execution_count": 18,
   "id": "9t7ukBZcxyQH",
   "metadata": {
    "id": "9t7ukBZcxyQH"
   },
   "outputs": [],
   "source": [
    "def seed_everything(seed):\n",
    "    random.seed(seed)\n",
    "    os.environ['PYTHONHASHSEED'] = str(seed)\n",
    "    np.random.seed(seed)\n",
    "    torch.manual_seed(seed)\n",
    "    torch.cuda.manual_seed(seed)\n",
    "    torch.backends.cudnn.deterministic = True\n",
    "    torch.backends.cudnn.benchmark = True\n",
    "seed_everything(0)"
   ]
  },
  {
   "cell_type": "code",
   "execution_count": 19,
   "id": "e70e47a6",
   "metadata": {
    "id": "e70e47a6"
   },
   "outputs": [],
   "source": [
    "def fetch_dataloader():\n",
    "    # using random crops and horizontal flip for train set\n",
    "    train_transformer = transforms.Compose([\n",
    "            transforms.RandomCrop(32, padding=4),\n",
    "            transforms.RandomHorizontalFlip(),  # randomly flip image horizontally\n",
    "            transforms.ToTensor(),\n",
    "            transforms.Normalize((0.4914, 0.4822, 0.4465), (0.247, 0.243, 0.261))])\n",
    "\n",
    "    # transformer for dev set\n",
    "    dev_transformer = transforms.Compose([\n",
    "        transforms.ToTensor(),\n",
    "        transforms.Normalize((0.4914, 0.4822, 0.4465), (0.247, 0.243, 0.261))])\n",
    "\n",
    "    # ************************************************************************************\n",
    "    trainset = torchvision.datasets.CIFAR10(root='./data/data-cifar10', train=True,\n",
    "                                                download=True, transform=train_transformer)\n",
    "    devset = torchvision.datasets.CIFAR10(root='./data/data-cifar10', train=False,\n",
    "                                              download=True, transform=dev_transformer)\n",
    "\n",
    "    \n",
    "    trainloader = torch.utils.data.DataLoader(trainset, batch_size=64,\n",
    "                                              shuffle=True, num_workers=0)\n",
    "\n",
    "    devloader = torch.utils.data.DataLoader(devset, batch_size=64,\n",
    "                                            shuffle=False, num_workers=0)\n",
    "    \n",
    "    return trainloader, devloader\n"
   ]
  },
  {
   "cell_type": "markdown",
   "id": "ec7be000",
   "metadata": {
    "id": "ec7be000"
   },
   "source": [
    "### Implement a Deep Neural Network with Convolutional Neural Network Architectures [4 pts]\n",
    "\n",
    "Use Convolutional Neural Network, Linear and Activation Layers to design a CNN. You can use torch nn layers or the layers you implemented above via employing numpy to torch conversions, from now on. "
   ]
  },
  {
   "cell_type": "code",
   "execution_count": 20,
   "id": "6ce4ae7d",
   "metadata": {
    "id": "6ce4ae7d"
   },
   "outputs": [],
   "source": [
    "class CNN(torch.nn.Module):\n",
    "    \"\"\"\n",
    "    Implement a Convolutional Neural Network with (at least two) convolutional, linear and activation layers you have implemented\n",
    "    \"\"\"\n",
    "    def __init__(self):\n",
    "        \"\"\"\n",
    "        Implement architecture\n",
    "        \"\"\"\n",
    "        super(CNN, self).__init__()\n",
    "        # YOUR CODE STARTS\n",
    "\n",
    "        self.conv1 = nn.Conv2d(in_channels=3, out_channels=16, kernel_size=3, stride=1, padding=1)\n",
    "        self.bn1 = nn.BatchNorm2d(16)\n",
    "        self.pool1 = nn.MaxPool2d(kernel_size=2, stride=2)\n",
    "        \n",
    "        self.conv2 = nn.Conv2d(in_channels=16, out_channels=32, kernel_size=3, stride=1, padding=1)\n",
    "        self.bn2 = nn.BatchNorm2d(32)\n",
    "        self.pool2 = nn.MaxPool2d(kernel_size=2, stride=2)\n",
    "        \n",
    "        self.conv3 = nn.Conv2d(in_channels=32, out_channels=64, kernel_size=3, stride=1, padding=1)\n",
    "        self.bn3 = nn.BatchNorm2d(64)\n",
    "        self.pool3 = nn.MaxPool2d(kernel_size=2, stride=2)\n",
    "        \n",
    "        # Fully connected layers\n",
    "        self.fc1 = nn.Linear(64 * 4 * 4, 256)\n",
    "        self.dropout1 = nn.Dropout(p=0.5)\n",
    "        self.fc2 = nn.Linear(256, 128)\n",
    "        self.dropout2 = nn.Dropout(p=0.5)\n",
    "        self.fc3 = nn.Linear(128, 10)\n",
    "\n",
    "        # YOUR CODE ENDS\n",
    "\n",
    "    def forward(self, x):\n",
    "        \"\"\"\n",
    "        Implement forward-pass\n",
    "        \"\"\"\n",
    "\n",
    "         # YOUR CODE STARTS\n",
    "\n",
    "        x = self.pool1(torch.relu(self.bn1(self.conv1(x))))\n",
    "        x = self.pool2(torch.relu(self.bn2(self.conv2(x))))\n",
    "        x = self.pool3(torch.relu(self.bn3(self.conv3(x))))\n",
    "        \n",
    "        x = x.view(x.size(0), -1)  # Flatten the tensor\n",
    "        x = torch.relu(self.fc1(x))\n",
    "        x = self.dropout1(x)\n",
    "        x = torch.relu(self.fc2(x))\n",
    "        x = self.dropout2(x)\n",
    "        x = self.fc3(x)\n",
    "\n",
    "        # YOUR CODE ENDS\n",
    "\n",
    "        return x"
   ]
  },
  {
   "cell_type": "markdown",
   "id": "5fc3b0a9",
   "metadata": {
    "id": "ec7be000"
   },
   "source": [
    "### Implement a ResNet with residual blocks [4 pts]\n",
    "\n",
    "Residual Networks introduce skip connections to improve training dynamics. First, implement a simplified ResNet block. Then, use three residual blocks to build a small ResNet.\n"
   ]
  },
  {
   "cell_type": "code",
   "execution_count": 21,
   "id": "b2767f0a",
   "metadata": {
    "id": "6ce4ae7d"
   },
   "outputs": [],
   "source": [
    "class customResNet(torch.nn.Module):\n",
    "    def __init__(self):\n",
    "        \"\"\"\n",
    "        Implement architecture\n",
    "        \"\"\"\n",
    "        super(customResNet, self).__init__()\n",
    "                \n",
    "        # Initial convolution, batch normalization, and ReLU activation\n",
    "        self.conv1 = torch.nn.Conv2d(in_channels=3, out_channels=64, kernel_size=7, stride=2, padding=3, bias=False)\n",
    "        self.bn1 = torch.nn.BatchNorm2d(64)\n",
    "        self.AvgPool2d = torch.nn.AdaptiveAvgPool2d((1, 1))  # Global average pooling\n",
    "        self.relu = torch.nn.ReLU(inplace=True)\n",
    "        \n",
    "        self.layer1 = self.make_block(64, stride=1)\n",
    "        self.layer2 = self.make_block(128, stride=2)\n",
    "        self.layer3 = self.make_block(256, stride=2)\n",
    "        self.linear = torch.nn.Linear(512, 10)\n",
    "\n",
    "        \n",
    "    def make_block(self, ch=64, stride=2):\n",
    "    \n",
    "        # YOUR CODE STARTS\n",
    "\n",
    "        out_channels = ch * 2  # Doubling the channels at each block\n",
    "\n",
    "        # Main block\n",
    "        block = nn.Sequential(\n",
    "            \n",
    "            # First convolutional layer\n",
    "            nn.Conv2d(ch, out_channels, kernel_size=3, stride=stride, padding=1, bias=False),\n",
    "            nn.BatchNorm2d(out_channels),\n",
    "            nn.ReLU(inplace=True),\n",
    "\n",
    "            # Second convolutional layer\n",
    "            nn.Conv2d(out_channels, out_channels, kernel_size=3, stride=1, padding=1, bias=False),\n",
    "            nn.BatchNorm2d(out_channels)\n",
    "            \n",
    "        )\n",
    "\n",
    "        # Define the shortcut connection\n",
    "        shortcut = nn.Sequential()\n",
    "\n",
    "        # Combine the block and shortcut for the residual connection\n",
    "        return nn.Sequential(block, shortcut)\n",
    "\n",
    "        # YOUR CODE ENDS    \n",
    "\n",
    "        \n",
    "    def forward(self, x):\n",
    "        out = self.relu(self.bn1(self.conv1(x)))\n",
    "        out = self.layer1(out)\n",
    "        out = self.layer2(out)\n",
    "        out = self.layer3(out)\n",
    "        out = self.AvgPool2d(out)\n",
    "        out = out.view(out.size(0), -1)\n",
    "        out = self.linear(out)\n",
    "        return out\n",
    "    "
   ]
  },
  {
   "cell_type": "markdown",
   "id": "fc77caa4",
   "metadata": {
    "id": "fc77caa4"
   },
   "source": [
    "### Initialize your networks"
   ]
  },
  {
   "cell_type": "code",
   "execution_count": 22,
   "id": "0f3c20d1",
   "metadata": {
    "id": "0f3c20d1"
   },
   "outputs": [],
   "source": [
    "networks = {\"CNN\": CNN(), \"customResNet\": customResNet()}"
   ]
  },
  {
   "cell_type": "markdown",
   "id": "51111359",
   "metadata": {
    "id": "51111359"
   },
   "source": [
    "### Initialization of the Optimizers: You can change the Parameters according to your needs"
   ]
  },
  {
   "cell_type": "code",
   "execution_count": 23,
   "id": "489318db",
   "metadata": {
    "id": "489318db"
   },
   "outputs": [],
   "source": [
    "optimizers = {\n",
    "    \"CNN\": optim.Adam(networks[\"CNN\"].parameters(), lr=1e-3),\n",
    "    \"customResNet\": optim.Adam(networks[\"customResNet\"].parameters(), lr=1e-3),\n",
    "    }"
   ]
  },
  {
   "cell_type": "markdown",
   "id": "fab750e1",
   "metadata": {
    "id": "fab750e1"
   },
   "source": [
    "### Initialization of the losses: You can change the parameters according to your needs"
   ]
  },
  {
   "cell_type": "code",
   "execution_count": 24,
   "id": "21060791",
   "metadata": {
    "id": "21060791"
   },
   "outputs": [],
   "source": [
    "losses = {\n",
    "    \"CNN\": torch.nn.CrossEntropyLoss(reduction='sum'),\n",
    "    \"customResNet\": torch.nn.CrossEntropyLoss(reduction='sum'),\n",
    "    }"
   ]
  },
  {
   "cell_type": "markdown",
   "id": "Vey4sQDntKgN",
   "metadata": {
    "id": "Vey4sQDntKgN"
   },
   "source": [
    "### Setting the training length: You can change the parameters according to your needs"
   ]
  },
  {
   "cell_type": "code",
   "execution_count": 25,
   "id": "oRtAeeoYtKgN",
   "metadata": {
    "id": "oRtAeeoYtKgN"
   },
   "outputs": [],
   "source": [
    "epochs = {\n",
    "    \"CNN\": 15,\n",
    "    \"customResNet\": 15\n",
    "    }"
   ]
  },
  {
   "cell_type": "markdown",
   "id": "d5ee9e64",
   "metadata": {
    "id": "d5ee9e64"
   },
   "source": [
    "### Training Loop [5 pts]"
   ]
  },
  {
   "cell_type": "code",
   "execution_count": 26,
   "id": "af56487d",
   "metadata": {
    "id": "af56487d"
   },
   "outputs": [],
   "source": [
    "def train(network, optimizer, loss_fn, train_loader, epochs=10, verbose=True, device=\"cpu\"):\n",
    "    \"\"\"\n",
    "    Implement training loop\n",
    "    \"\"\"\n",
    "    train_data = {\"loss\": [], \"accuracy\": []}\n",
    "    # YOUR CODE STARTS\n",
    "\n",
    "    network.to(device)  # Move the network to the specified device\n",
    "\n",
    "    for epoch in range(epochs):\n",
    "        \n",
    "        network.train()  # Enable training mode\n",
    "        epoch_loss = 0.0  # Track total loss for the epoch\n",
    "        correct_predictions = 0  # Track the number of correct predictions\n",
    "        total_samples = 0  # Track the total number of samples\n",
    "\n",
    "        for inputs, targets in train_loader:\n",
    "            inputs, targets = inputs.to(device), targets.to(device)  # Send inputs and targets to the device\n",
    "\n",
    "            optimizer.zero_grad()  # Clear gradients from the previous step\n",
    "            outputs = network(inputs)  # Perform a forward pass\n",
    "            loss = loss_fn(outputs, targets)  # Calculate the loss\n",
    "            loss.backward()  # Backpropagate the loss\n",
    "            optimizer.step()  # Update the network's parameters\n",
    "\n",
    "            epoch_loss += loss.item()  # Accumulate the loss for the current batch\n",
    "\n",
    "            # Calculate batch accuracy\n",
    "            predicted_labels = torch.argmax(outputs, dim=1)  # Get the predicted class labels\n",
    "            correct_predictions += (predicted_labels == targets).sum().item()  # Count matches\n",
    "            total_samples += targets.size(0)  # Update the total number of samples\n",
    "\n",
    "        # Compute epoch metrics\n",
    "        average_loss = epoch_loss / len(train_loader)  # Average loss over all batches\n",
    "        accuracy = correct_predictions / total_samples  # Accuracy for the epoch\n",
    "\n",
    "        # Record metrics\n",
    "        train_data[\"loss\"].append(average_loss)\n",
    "        train_data[\"accuracy\"].append(accuracy)\n",
    "\n",
    "        if verbose:\n",
    "            print(f\"Epoch {epoch + 1}/{epochs} - Loss: {average_loss:.4f}, Accuracy: {accuracy:.4f}\")\n",
    "\n",
    "\n",
    "    # YOUR CODE ENDS\n",
    "    return network, train_data"
   ]
  },
  {
   "cell_type": "markdown",
   "id": "d32bfc7a",
   "metadata": {
    "id": "d32bfc7a"
   },
   "source": [
    "### Evaluation based on Accuracy [3 pts]"
   ]
  },
  {
   "cell_type": "code",
   "execution_count": 27,
   "id": "94adec11",
   "metadata": {
    "id": "94adec11"
   },
   "outputs": [],
   "source": [
    "def evalf(network, test_loader, device=\"cpu\"):\n",
    "    \"\"\"\n",
    "    Implement evaluation for accuracy\n",
    "    \"\"\"\n",
    "    val_data = None\n",
    "\n",
    "    # YOUR CODE STARTS\n",
    "\n",
    "    network.to(device)                     # Move the model to device\n",
    "    network.eval()                         # Set  model to evaluation mode\n",
    "    correct_predictions = 0                # corrrect predictions\n",
    "    total_samples = 0                      # Number of predictions\n",
    "    validation_losses = []                 # Store validation loss for each batch\n",
    "    loss_fn = torch.nn.CrossEntropyLoss()  # Define the loss function\n",
    "\n",
    "    with torch.no_grad():                  # Disable gradient calculations for evaluation\n",
    "        \n",
    "        for inputs, targets in test_loader:\n",
    "            \n",
    "            inputs, targets = inputs.to(device), targets.to(device)  # Move data to the specified device\n",
    "\n",
    "            outputs = network(inputs)              # Perform a forward pass\n",
    "            loss = loss_fn(outputs, targets)       # Compute the loss\n",
    "            validation_losses.append(loss.item())  # Record the batch loss\n",
    "\n",
    "            # Compute batch accuracy\n",
    "            predicted_labels = torch.argmax(outputs, dim=1)  # Get predicted labels\n",
    "            correct_predictions += (predicted_labels == targets).sum().item()  # Count correct predictions\n",
    "            total_samples += targets.size(0)  # Update the total sample count\n",
    "\n",
    "    accuracy = correct_predictions / total_samples  # Compute overall accuracy\n",
    "\n",
    "\n",
    "    # YOUR CODE ENDS\n",
    "\n",
    "    return accuracy, val_data"
   ]
  },
  {
   "cell_type": "markdown",
   "id": "238a9bdd",
   "metadata": {
    "id": "238a9bdd"
   },
   "source": [
    "### Combine everything"
   ]
  },
  {
   "cell_type": "code",
   "execution_count": 28,
   "id": "e3c56101",
   "metadata": {
    "id": "e3c56101"
   },
   "outputs": [
    {
     "name": "stdout",
     "output_type": "stream",
     "text": [
      "cuda\n",
      "for CNN|\t Accuracy: 0.74460\n",
      "for customResNet|\t Accuracy: 0.79990\n"
     ]
    }
   ],
   "source": [
    "device = \"cuda\" if torch.cuda.is_available() else \"cpu\"\n",
    "print(device)\n",
    "train_data, val_data = {}, {}\n",
    "train_loader, test_loader = fetch_dataloader()\n",
    "\n",
    "for arch in [\"CNN\",\"customResNet\"]:\n",
    "    network, optimizer, loss_fn = networks[arch], optimizers[arch], losses[arch]\n",
    "\n",
    "    network, train_data[arch] = train(network, optimizer, loss_fn, train_loader, epochs=epochs[arch], verbose=False, device=device)\n",
    "    accuracy, val_data[arch] = evalf(network, test_loader, device=device)\n",
    "    \n",
    "    print(f\"for {arch}|\\t Accuracy: {accuracy:.5f}\")"
   ]
  },
  {
   "cell_type": "markdown",
   "id": "0d03e83e",
   "metadata": {},
   "source": [
    "### Visualize The First Two Convolution Layer Filter/Kernels of CNN Model and comment on the apperance of the filters.  [3 pts]\n",
    "Display the filters/kernels in the first and second convolutional layers. You can change below code if needed."
   ]
  },
  {
   "cell_type": "code",
   "execution_count": 29,
   "id": "adf22608",
   "metadata": {},
   "outputs": [
    {
     "data": {
      "image/png": "[encoded data removed]",
      "text/plain": [
       "<Figure size 1200x600 with 8 Axes>"
      ]
     },
     "metadata": {},
     "output_type": "display_data"
    },
    {
     "data": {
      "image/png": "[encoded data removed]",
      "text/plain": [
       "<Figure size 1200x600 with 8 Axes>"
      ]
     },
     "metadata": {},
     "output_type": "display_data"
    },
    {
     "data": {
      "image/png": "[encoded data removed]",
      "text/plain": [
       "<Figure size 1200x600 with 8 Axes>"
      ]
     },
     "metadata": {},
     "output_type": "display_data"
    },
    {
     "data": {
      "image/png": "[encoded data removed]",
      "text/plain": [
       "<Figure size 1200x600 with 8 Axes>"
      ]
     },
     "metadata": {},
     "output_type": "display_data"
    }
   ],
   "source": [
    "import matplotlib.pyplot as plt\n",
    "\n",
    "model = networks[\"CNN\"]        # Model\n",
    "model.to(device)               # Move model to  device\n",
    "model.eval()                   # Set the model to evaluation mode\n",
    "\n",
    "# Hook to capture layer activations\n",
    "activations = {}\n",
    "\n",
    "def capture_activation(name):\n",
    "    def hook(module, input, output):\n",
    "        activations[name] = output.detach().cpu()\n",
    "    return hook\n",
    "\n",
    "# Register hooks for the first two convolutional layers\n",
    "model.conv1.register_forward_hook(capture_activation('conv1'))\n",
    "model.conv2.register_forward_hook(capture_activation('conv2')) \n",
    "\n",
    "# Use a dummy image or load an actual image resized to match the input dimensions\n",
    "input_image = torch.randn(1, 3, 32, 32).to(device)  \n",
    "with torch.no_grad():\n",
    "    output = model(input_image)  # Forward pass\n",
    "\n",
    "# Visualize feature maps for a given layer\n",
    "def visualize_feature_maps(layer_name, num_filters=8):\n",
    "    feature_maps = activations[layer_name][0]  # Take the first image in the batch\n",
    "    num_filters = min(num_filters, feature_maps.size(0))  # Limit to available filters\n",
    "\n",
    "    plt.figure(figsize=(12, 6))\n",
    "    for i in range(num_filters):\n",
    "        plt.subplot(2, (num_filters + 1) // 2, i + 1)\n",
    "        plt.imshow(feature_maps[i], cmap='inferno')\n",
    "        plt.axis('off')\n",
    "        plt.title(f'Filter {i + 1}')\n",
    "    plt.tight_layout()\n",
    "    plt.suptitle(f'{layer_name} Feature Maps', y=1.02)\n",
    "    plt.show()\n",
    "\n",
    "# Visualize filters/kernels for a given layer\n",
    "def visualize_filters(layer, num_filters=8):\n",
    "    weights = layer.weight.data.cpu().numpy()  # Extract the weights as a NumPy array\n",
    "    num_filters = min(num_filters, weights.shape[0])  # Limit to available filters\n",
    "\n",
    "    plt.figure(figsize=(12, 6))\n",
    "    for i in range(num_filters):\n",
    "        plt.subplot(2, (num_filters + 1) // 2, i + 1)\n",
    "        plt.imshow(weights[i, 0], cmap='inferno')  # Visualize the first channel of the filter\n",
    "        plt.axis('off')\n",
    "        plt.title(f'Filter {i + 1}')\n",
    "    plt.tight_layout()\n",
    "    plt.suptitle('Convolutional Layer Filters', y=1.02)\n",
    "    plt.show()\n",
    "\n",
    "# Plot the activations for the first two layers\n",
    "visualize_feature_maps('conv1', num_filters=8)\n",
    "visualize_feature_maps('conv2', num_filters=8)\n",
    "\n",
    "# Display filters for the first and second convolutional layers\n",
    "visualize_filters(model.conv1, num_filters=8)\n",
    "visualize_filters(model.conv2, num_filters=8)"
   ]
  },
  {
   "cell_type": "markdown",
   "id": "962f1ab1",
   "metadata": {
    "id": "962f1ab1"
   },
   "source": [
    "## Compare the results [9 pts]\n",
    "\n",
    "In this part, you will compare the results of both methods. While answering the questions below, consider the following points:\n",
    "\n",
    "- What are the advantages and disadvantages of these models?\n",
    "- In what scenarios would you use a CNN versus a custom ResNet?\n",
    "- Is early stopping necessary during training? If so, why?\n",
    "    \n",
    "Also, feel free to use any library you want."
   ]
  },
  {
   "cell_type": "markdown",
   "id": "tLZhhnkA3K3M",
   "metadata": {
    "id": "tLZhhnkA3K3M"
   },
   "source": [
    "#### Plot loss and accuracy curves per training epoch for both train and test sets. Make sure you put legend and labels. Comment on the results. [3 pts]"
   ]
  },
  {
   "cell_type": "code",
   "execution_count": 30,
   "id": "99c260bf",
   "metadata": {
    "id": "99c260bf"
   },
   "outputs": [
    {
     "data": {
      "image/png": "[encoded data removed]",
      "text/plain": [
       "<Figure size 1200x600 with 2 Axes>"
      ]
     },
     "metadata": {},
     "output_type": "display_data"
    }
   ],
   "source": [
    "# Extract loss and accuracy values\n",
    "loss_values = train_data[\"CNN\"][\"loss\"]\n",
    "accuracy_values = train_data[\"CNN\"][\"accuracy\"]\n",
    "\n",
    "# Create a figure with subplots for loss and accuracy\n",
    "fig, axes = plt.subplots(1, 2, figsize=(12, 6))\n",
    "\n",
    "# Plot Training Accuracy\n",
    "axes[0].plot(accuracy_values, label='Training Accuracy', color='red', linewidth=4)\n",
    "axes[0].set_xlabel('Epoch', fontsize=14)\n",
    "axes[0].set_ylabel('Accuracy', fontsize=14)\n",
    "axes[0].set_title('Training Accuracy Curve for CNN', fontsize=24)\n",
    "axes[0].legend(fontsize=12)\n",
    "axes[0].grid(True)\n",
    "\n",
    "# Plot Training Loss\n",
    "axes[1].plot(loss_values, label='Training Loss', color='red', linewidth=4)\n",
    "axes[1].set_xlabel('Epoch', fontsize=14)\n",
    "axes[1].set_ylabel('Loss', fontsize=14)\n",
    "axes[1].set_title('Training Loss Curve for CNN', fontsize=24)\n",
    "axes[1].legend(fontsize=12)\n",
    "axes[1].grid(True)\n",
    "\n",
    "\n",
    "# Adjust layout and display the plots\n",
    "plt.tight_layout()\n",
    "plt.show()\n"
   ]
  },
  {
   "cell_type": "markdown",
   "id": "--s20NOl39CN",
   "metadata": {
    "id": "--s20NOl39CN"
   },
   "source": [
    "#### Visualize a few example test outputs with true and predicted labels (both models). Make comments [3 pts]"
   ]
  },
  {
   "cell_type": "code",
   "execution_count": 31,
   "id": "mEC0W_4A38yZ",
   "metadata": {
    "id": "mEC0W_4A38yZ"
   },
   "outputs": [
    {
     "data": {
      "image/png": "[encoded data removed]",
      "text/plain": [
       "<Figure size 1500x500 with 5 Axes>"
      ]
     },
     "metadata": {},
     "output_type": "display_data"
    }
   ],
   "source": [
    "import random\n",
    "\n",
    "def visualize_test_outputs(model1, model2, test_loader, class_names, device=\"cpu\", num_samples=5):\n",
    "\n",
    "    # Models to device and set to evaluation mode\n",
    "    model1.to(device).eval()\n",
    "    model2.to(device).eval()\n",
    "\n",
    "    # Collect all test data from the DataLoader\n",
    "    test_data = [(inputs, targets) for inputs, targets in test_loader]\n",
    "    inputs, targets = zip(*test_data)\n",
    "\n",
    "    # Flatten lists of tensors into a single tensor for inputs and targets\n",
    "    inputs = torch.cat(inputs)\n",
    "    targets = torch.cat(targets)\n",
    "\n",
    "    # Select random indices for the specified number of samples\n",
    "    random_indices = random.sample(range(len(inputs)), num_samples)\n",
    "    random_inputs = inputs[random_indices].to(device)\n",
    "    random_targets = targets[random_indices].to(device)\n",
    "\n",
    "    with torch.no_grad():\n",
    "        preds1 = model1(random_inputs).argmax(dim=1)  # Predictions from model1\n",
    "        preds2 = model2(random_inputs).argmax(dim=1)  # Predictions from model2\n",
    "\n",
    "    plt.figure(figsize=(15, 5))\n",
    "    for i in range(num_samples):\n",
    "        # Visualize the image with GT and predictions from both models\n",
    "        plt.subplot(1, num_samples, i + 1)\n",
    "        img = random_inputs[i].cpu().permute(1, 2, 0).numpy()  # Convert tensor to image\n",
    "        img = np.clip(img, 0, 1)  # Clip values to valid range [0, 1]\n",
    "        plt.imshow(img)\n",
    "        plt.axis(\"off\")\n",
    "        plt.title(\n",
    "            f\"GT: {class_names[random_targets[i].item()]}\\n\"\n",
    "            f\"M1: {class_names[preds1[i].item()]}\\n\"\n",
    "            f\"M2: {class_names[preds2[i].item()]}\",\n",
    "            fontsize=10,\n",
    "        )\n",
    "\n",
    "    # Adjust layout for better spacing\n",
    "    plt.tight_layout()\n",
    "    plt.show()\n",
    "    \n",
    "class_names = [\"0\", \"1\", \"2\", \"3\", \"4\", \"5\", \"6\", \"7\", \"8\", \"9\"]  # Replace with actual class names\n",
    "visualize_test_outputs(networks[\"CNN\"], networks[\"customResNet\"], test_loader, class_names, device=\"cuda\", num_samples=5)\n"
   ]
  },
  {
   "cell_type": "markdown",
   "id": "qTGZkcf121_L",
   "metadata": {
    "id": "qTGZkcf121_L"
   },
   "source": [
    "#### Compare number of parameters of the models. Comment your insights [3 pts]"
   ]
  },
  {
   "cell_type": "code",
   "execution_count": 32,
   "id": "a21574b7",
   "metadata": {
    "id": "a21574b7"
   },
   "outputs": [
    {
     "name": "stdout",
     "output_type": "stream",
     "text": [
      "Total parameters in CNN Model: 320,394\n",
      "Total parameters in Custom ResNet Model: 4,663,114\n"
     ]
    }
   ],
   "source": [
    "def count_parameters(model):\n",
    "    \"\"\"Count the total number of parameters in a model (trainable and non-trainable).\"\"\"\n",
    "    return sum(param.numel() for param in model.parameters())\n",
    "\n",
    "cnn_params = count_parameters(networks[\"CNN\"])\n",
    "resnet_params = count_parameters(networks[\"customResNet\"])\n",
    "\n",
    "print(f\"Total parameters in CNN Model: {cnn_params:,}\")\n",
    "print(f\"Total parameters in Custom ResNet Model: {resnet_params:,}\")"
   ]
  },
  {
   "cell_type": "markdown",
   "id": "b913af59",
   "metadata": {},
   "source": [
    "# PART IV Object Detection [28 pts]"
   ]
  },
  {
   "cell_type": "markdown",
   "id": "d1518a49",
   "metadata": {},
   "source": [
    "Object detection is a computer vision task where the goal is to identify and localize objects within an image. \n",
    "Unlike image classification, where the focus is on assigning a single label to an image, object detection involves:\n",
    "- Predicting **what** objects are present (class labels).\n",
    "- Predicting **where** the objects are located (bounding boxes)."
   ]
  },
  {
   "cell_type": "markdown",
   "id": "9e6a4952",
   "metadata": {},
   "source": [
    "#### Image Classification vs Object Detection:"
   ]
  },
  {
   "cell_type": "markdown",
   "id": "a400820b",
   "metadata": {},
   "source": [
    "Image classification answers the question: **What is in the image?**\n",
    "\n",
    "Object detection answers the questions: **What objects are in the image, and where are they located?**"
   ]
  },
  {
   "cell_type": "markdown",
   "id": "62fc08b6",
   "metadata": {},
   "source": [
    "#### Why Object Detection?\n",
    "Object detection is used in a variety of real-world applications, such as:\n",
    "- **Autonomous vehicles**: Detecting pedestrians, vehicles, and traffic signs.\n",
    "- **Medical imaging**: Identifying abnormalities in scans (e.g., tumors).\n",
    "- **Surveillance**: Recognizing and tracking people or objects in video feeds.\n",
    "- **Retail**: Counting products or monitoring shelves.\n",
    "\n",
    "\n",
    "#### Components of Object Detection:\n",
    "\n",
    "A basic object detection network typically consists of two outputs:\n",
    "1. **Class Prediction**: A probability distribution over possible object classes.\n",
    "2. **Bounding Box Regression**: Coordinates of the bounding box enclosing the object.\n",
    "\n",
    "\n",
    "- The bounding box is represented as `[x_min, y_min, x_max, y_max]`, where:\n",
    "  - `(x_min, y_min)` is the top-left corner.\n",
    "  - `(x_max, y_max)` is the bottom-right corner.\n",
    "- The network predicts both **what** (class label) and **where** (bounding box coordinates)."
   ]
  },
  {
   "cell_type": "markdown",
   "id": "816b3a39",
   "metadata": {},
   "source": [
    "### Define a Basic Object Detection Network\n",
    "The network should:\n",
    "- Take an image as input.\n",
    "- Output a class label and four bounding box coordinates.\n",
    "\n",
    "**Hints**:\n",
    "- The final layer should output both the class probabilities and bounding box coordinates.\n",
    "- Use the CNN you trained in the previous part as the backbone of your object detector. Add two heads to your backbone model, where one of the heads will predict the object class and the other will predict the object location. \n",
    "\n",
    "\n",
    "**Steps**:\n",
    "- Implement a network that consists of a backbone and two heads.\n",
    "- Build forward and backward propagation for the network.\n",
    "- Use separate loss functions for classification (cross-entropy) and bounding box regression (mean squared error).\n",
    "- Train the network on the object detection dataset.\n"
   ]
  },
  {
   "cell_type": "markdown",
   "id": "66e356e8",
   "metadata": {},
   "source": [
    "### Dataset"
   ]
  },
  {
   "cell_type": "markdown",
   "id": "ce403cdc",
   "metadata": {},
   "source": [
    "You will detect license plates:\n",
    "https://ieee-dataport.org/open-access/cd-lp-compressed-domain-license-plate-detection-database\n",
    "\n",
    "The dataset contains 2,400 vehicle images for license plate detection purposes. There are 3 subsets, where you'll use only pixel domain images (2400 images). Since you'll predict the license plate coordinates, number of classes will be 2 (plate and non-plate objects). "
   ]
  },
  {
   "cell_type": "markdown",
   "id": "dd58653d",
   "metadata": {},
   "source": [
    "#### Implement the network [10 pts]"
   ]
  },
  {
   "cell_type": "code",
   "execution_count": 33,
   "id": "34ea7e7b",
   "metadata": {},
   "outputs": [
    {
     "name": "stdout",
     "output_type": "stream",
     "text": [
      "Train dataset size: 1800\n",
      "Test dataset size: 600\n"
     ]
    }
   ],
   "source": [
    "import os\n",
    "import torch\n",
    "from torch.utils.data import Dataset, DataLoader\n",
    "from PIL import Image\n",
    "import torchvision.transforms as transforms\n",
    "\n",
    "class PlateDataset(Dataset):\n",
    "    def __init__(self, root_dir, transform=None):\n",
    "        \"\"\"\n",
    "        Custom dataset for loading images and YOLO annotation files.\n",
    "\n",
    "        Args:\n",
    "            root_dir (str): Directory containing images and annotation files.\n",
    "            transform (callable, optional): Transformation to apply to images.\n",
    "        \"\"\"\n",
    "        self.root_dir = root_dir\n",
    "        self.transform = transform\n",
    "        self.image_files = [file for file in os.listdir(root_dir) if file.endswith('.jpg')]\n",
    "        self.annotation_files = [file.replace('.jpg', '.txt') for file in self.image_files]\n",
    "\n",
    "    def __len__(self):\n",
    "        \"\"\"Returns the number of images in the dataset.\"\"\"\n",
    "        return len(self.image_files)\n",
    "\n",
    "    def __getitem__(self, idx):\n",
    "        \"\"\"\n",
    "        Loads an image and its corresponding annotations.\n",
    "\n",
    "        Args:\n",
    "            idx (int): Index of the image to retrieve.\n",
    "\n",
    "        Returns:\n",
    "            image (Tensor): Transformed image.\n",
    "            target (dict): Dictionary containing bounding boxes and labels.\n",
    "        \"\"\"\n",
    "        # Load image\n",
    "        img_path = os.path.join(self.root_dir, self.image_files[idx])\n",
    "        image = Image.open(img_path).convert(\"RGB\")\n",
    "\n",
    "        # Load annotations\n",
    "        annot_path = os.path.join(self.root_dir, self.annotation_files[idx])\n",
    "        boxes, labels = self.parse_yolo_annotation(annot_path, image.size)\n",
    "\n",
    "        # Apply transformations if specified\n",
    "        if self.transform:\n",
    "            image = self.transform(image)\n",
    "\n",
    "        target = {\n",
    "            \"boxes\": torch.tensor(boxes, dtype=torch.float32),\n",
    "            \"labels\": torch.tensor(labels, dtype=torch.int64)\n",
    "        }\n",
    "\n",
    "        return image, target\n",
    "\n",
    "    def parse_yolo_annotation(self, annot_path, img_size):\n",
    "        \"\"\"\n",
    "        Parses YOLO annotations into absolute coordinates.\n",
    "\n",
    "        Args:\n",
    "            annot_path (str): Path to the annotation file.\n",
    "            img_size (tuple): Dimensions of the image (width, height).\n",
    "\n",
    "        Returns:\n",
    "            boxes (list): List of bounding boxes in [x_min, y_min, x_max, y_max].\n",
    "            labels (list): List of class IDs.\n",
    "        \"\"\"\n",
    "        boxes = []\n",
    "        labels = []\n",
    "\n",
    "        img_width, img_height = img_size\n",
    "        with open(annot_path, 'r') as file:\n",
    "            for line in file:\n",
    "                class_id, center_x, center_y, width, height = map(float, line.strip().split())\n",
    "\n",
    "                # Convert YOLO annotations to absolute bounding box coordinates\n",
    "                x_min = (center_x - width / 2) * img_width\n",
    "                y_min = (center_y - height / 2) * img_height\n",
    "                x_max = (center_x + width / 2) * img_width\n",
    "                y_max = (center_y + height / 2) * img_height\n",
    "\n",
    "                boxes.append([x_min, y_min, x_max, y_max])\n",
    "                labels.append(int(class_id))\n",
    "\n",
    "        return boxes, labels\n",
    "\n",
    "\n",
    "# Define image transformations\n",
    "train_transform = transforms.Compose([\n",
    "    transforms.Resize((32, 32)),  # Resize to match model input dimensions\n",
    "    transforms.ToTensor(),\n",
    "])\n",
    "\n",
    "# Prepare datasets for training and testing\n",
    "train_dataset = PlateDataset(root_dir=\"DB/PixelDomain/Train\", transform=train_transform)\n",
    "test_dataset = PlateDataset(root_dir=\"DB/PixelDomain/Test\", transform=train_transform)\n",
    "\n",
    "# Custom collate function for DataLoader\n",
    "def collate_fn(batch):\n",
    "    \"\"\"\n",
    "    Combines a batch of data into tensors for the DataLoader.\n",
    "\n",
    "    Args:\n",
    "        batch (list): List of (image, target) tuples.\n",
    "\n",
    "    Returns:\n",
    "        images (Tensor): Stacked images.\n",
    "        labels (Tensor): Concatenated labels.\n",
    "        bboxes (Tensor): Concatenated bounding boxes.\n",
    "    \"\"\"\n",
    "    images = []\n",
    "    targets = []\n",
    "\n",
    "    for img, target in batch:\n",
    "        images.append(img)\n",
    "        targets.append(target)\n",
    "\n",
    "    # Stack images and concatenate labels and bounding boxes\n",
    "    images = torch.stack(images, dim=0)\n",
    "    labels = torch.cat([t['labels'] for t in targets], dim=0)\n",
    "    bboxes = torch.cat([t['boxes'] for t in targets], dim=0)\n",
    "\n",
    "    return images, labels, bboxes\n",
    "\n",
    "# Create DataLoaders\n",
    "train_loader = DataLoader(\n",
    "    train_dataset, batch_size=64, shuffle=True, collate_fn=collate_fn\n",
    ")\n",
    "test_loader = DataLoader(\n",
    "    test_dataset, batch_size=64, shuffle=False, collate_fn=collate_fn\n",
    ")\n",
    "\n",
    "# Print dataset sizes\n",
    "print(\"Train dataset size:\", len(train_dataset))\n",
    "print(\"Test dataset size:\", len(test_dataset))\n"
   ]
  },
  {
   "cell_type": "code",
   "execution_count": 34,
   "id": "e150fea1",
   "metadata": {},
   "outputs": [],
   "source": [
    "class ObjectDetectionNetwork(nn.Module):\n",
    "    def __init__(self, backbone):\n",
    "        super(ObjectDetectionNetwork, self).__init__()\n",
    "        self.backbone = backbone\n",
    "\n",
    "        # Classification Head\n",
    "        self.classification_head = nn.Sequential(\n",
    "            nn.Linear(backbone.fc3.out_features, 256),\n",
    "            nn.ReLU(),\n",
    "            nn.BatchNorm1d(256),\n",
    "            nn.Dropout(p=0.5),\n",
    "            nn.Linear(256, 2)  # 2 classes\n",
    "        )\n",
    "\n",
    "        # Regression Head\n",
    "        self.regression_head = nn.Sequential(\n",
    "            nn.Linear(backbone.fc3.out_features, 256),\n",
    "            nn.ReLU(),\n",
    "            nn.BatchNorm1d(256),\n",
    "            nn.Dropout(p=0.5),\n",
    "            nn.Linear(256, 4)  # 4 for bounding box coordinates (x_min, y_min, x_max, y_max)\n",
    "        )\n",
    "\n",
    "    def forward(self, x):\n",
    "        \n",
    "        features = self.backbone(x)\n",
    "\n",
    "        class_logits = self.classification_head(features)\n",
    "        bbox_coords = self.regression_head(features)\n",
    "\n",
    "        return class_logits, bbox_coords\n"
   ]
  },
  {
   "cell_type": "markdown",
   "id": "78aaec81",
   "metadata": {},
   "source": [
    "#### Train the network [5 pts]"
   ]
  },
  {
   "cell_type": "code",
   "execution_count": 35,
   "id": "cdcfd899",
   "metadata": {},
   "outputs": [
    {
     "name": "stdout",
     "output_type": "stream",
     "text": [
      "Epoch [1/20], Loss: 4853.8408203125\n",
      "Epoch [2/20], Loss: 3884.70068359375\n",
      "Epoch [3/20], Loss: 905.0684204101562\n",
      "Epoch [4/20], Loss: 116.46862030029297\n",
      "Epoch [5/20], Loss: 244.72010803222656\n",
      "Epoch [6/20], Loss: 226.56910705566406\n",
      "Epoch [7/20], Loss: 225.22061157226562\n",
      "Epoch [8/20], Loss: 613.674560546875\n",
      "Epoch [9/20], Loss: 228.89300537109375\n",
      "Epoch [10/20], Loss: 249.150634765625\n",
      "Epoch [11/20], Loss: 134.63427734375\n",
      "Epoch [12/20], Loss: 231.51626586914062\n",
      "Epoch [13/20], Loss: 206.09701538085938\n",
      "Epoch [14/20], Loss: 147.35560607910156\n",
      "Epoch [15/20], Loss: 178.73260498046875\n",
      "Epoch [16/20], Loss: 212.560302734375\n",
      "Epoch [17/20], Loss: 74.08887481689453\n",
      "Epoch [18/20], Loss: 201.32508850097656\n",
      "Epoch [19/20], Loss: 80.81236267089844\n",
      "Epoch [20/20], Loss: 100.80984497070312\n",
      "Test Loss: 41.749102401733396\n"
     ]
    }
   ],
   "source": [
    "# Loss Functions\n",
    "classification_loss = nn.CrossEntropyLoss()\n",
    "regression_loss = nn.MSELoss()\n",
    "\n",
    "device = torch.device('cuda' if torch.cuda.is_available() else 'cpu')\n",
    "backbone = networks[\"CNN\"].to(device)  # Use the CNN model as the backbone\n",
    "model = ObjectDetectionNetwork(backbone).to(device)\n",
    "\n",
    "train_total_loss = 0.0\n",
    "train_correct = 0\n",
    "train_total = 0\n",
    "\n",
    "optimizer = torch.optim.Adam(model.parameters(), lr=0.005)\n",
    "num_epochs = 20\n",
    "\n",
    "model.train()\n",
    "# Training loop\n",
    "for epoch in range(num_epochs):\n",
    "\n",
    "    for images, labels, bboxes in train_loader:\n",
    "        images = images.to(device)\n",
    "        labels = labels.to(device)\n",
    "        bboxes = bboxes.to(device)\n",
    "\n",
    "        class_logits, bbox_coords = model(images)\n",
    "\n",
    "        class_loss = classification_loss(class_logits, labels)\n",
    "        bbox_loss = regression_loss(bbox_coords, bboxes)\n",
    "\n",
    "        total_loss = class_loss + bbox_loss\n",
    "\n",
    "        optimizer.zero_grad()\n",
    "        total_loss.backward()\n",
    "        optimizer.step()\n",
    "\n",
    "            # Calculate train accuracy\n",
    "        _, predicted = torch.max(class_logits, 1)\n",
    "        train_correct += (predicted == labels).sum().item()\n",
    "        train_total += labels.size(0)\n",
    "\n",
    "    print(f'Epoch [{epoch+1}/{num_epochs}], Loss: {total_loss.item()}')\n",
    "\n",
    "\n",
    "avg_train_loss = train_total_loss / len(train_loader)\n",
    "train_accuracy = train_correct / train_total\n",
    "\n",
    "\n",
    "# Test loop\n",
    "model.eval()\n",
    "running_loss = 0.0\n",
    "with torch.no_grad():\n",
    "    for images, labels, bboxes in test_loader:\n",
    "        images = images.to(device)\n",
    "        labels = labels.to(device)\n",
    "        bboxes = bboxes.to(device)\n",
    "\n",
    "        class_logits, bbox_coords = model(images)\n",
    "\n",
    "        if(labels.size(0) == 65):   # Skip the last batch if it's smaller than the batch size\n",
    "            continue\n",
    "\n",
    "        class_loss = classification_loss(class_logits, labels)\n",
    "        bbox_loss = regression_loss(bbox_coords, bboxes)\n",
    "\n",
    "        total_loss = class_loss + bbox_loss\n",
    "        running_loss += total_loss.item()\n",
    "\n",
    "print(f\"Test Loss: {running_loss / len(test_loader)}\")\n"
   ]
  },
  {
   "cell_type": "markdown",
   "id": "a8edee9d",
   "metadata": {},
   "source": [
    "#### Evaluate the model and plot precision, recall, and mAP scores for different IoU thresholds [5 pts]\n",
    "\n",
    "Evaluate the network using **evaluate()** below for different IoU thresholds [0.1; 0.1; 1]:\n",
    "\n"
   ]
  },
  {
   "cell_type": "code",
   "execution_count": 36,
   "id": "041b4d2d",
   "metadata": {},
   "outputs": [
    {
     "name": "stdout",
     "output_type": "stream",
     "text": [
      "Evaluation Results for Intersection Over Union 0.1: {'Precision': 0.6059322033898306, 'Recall': 0.6059322033898306, 'mAP': 0.6059322033898306}\n",
      "Evaluation Results for Intersection Over Union 0.5: {'Precision': 0.3538135593220339, 'Recall': 0.3538135593220339, 'mAP': 0.3538135593220339}\n",
      "Evaluation Results for Intersection Over Union 0.8: {'Precision': 0.09533898305084745, 'Recall': 0.09533898305084745, 'mAP': 0.09533898305084745}\n",
      "Evaluation Results for Intersection Over Union 1: {'Precision': 0.0, 'Recall': 0.0, 'mAP': 0.0}\n"
     ]
    }
   ],
   "source": [
    "\n",
    "import numpy as np\n",
    "\n",
    "def calculate_iou(pred_box, gt_box):\n",
    "    \"\"\"\n",
    "    Calculate Intersection over Union (IoU) between two bounding boxes.\n",
    "    Args:\n",
    "        pred_box (list): [x_min, y_min, x_max, y_max] for the predicted box.\n",
    "        gt_box (list): [x_min, y_min, x_max, y_max] for the ground truth box.\n",
    "    Returns:\n",
    "        float: IoU value.\n",
    "    \"\"\"\n",
    "    # Compute intersection\n",
    "    x_min_inter = max(pred_box[0], gt_box[0])\n",
    "    y_min_inter = max(pred_box[1], gt_box[1])\n",
    "    x_max_inter = min(pred_box[2], gt_box[2])\n",
    "    y_max_inter = min(pred_box[3], gt_box[3])\n",
    "\n",
    "    inter_area = max(0, x_max_inter - x_min_inter) * max(0, y_max_inter - y_min_inter)\n",
    "    \n",
    "    # Compute union\n",
    "    pred_area = (pred_box[2] - pred_box[0]) * (pred_box[3] - pred_box[1])\n",
    "    gt_area = (gt_box[2] - gt_box[0]) * (gt_box[3] - gt_box[1])\n",
    "    union_area = pred_area + gt_area - inter_area\n",
    "\n",
    "    return inter_area / union_area if union_area > 0 else 0\n",
    "\n",
    "def evaluate(predictions, ground_truths, iou_threshold=0.5):\n",
    "    \"\"\"\n",
    "    Evaluate object detection metrics: Precision, Recall, and mAP.\n",
    "    Args:\n",
    "        predictions (list): List of predicted bounding boxes [[x_min, y_min, x_max, y_max, class], ...].\n",
    "        ground_truths (list): List of ground truth boxes [[x_min, y_min, x_max, y_max, class], ...].\n",
    "        iou_threshold (float): IoU threshold to consider a prediction correct.\n",
    "    Returns:\n",
    "        dict: Precision, Recall, and mAP scores.\n",
    "    \"\"\"\n",
    "    tp = 0  # True positives\n",
    "    fp = 0  # False positives\n",
    "    fn = 0  # False negatives\n",
    "\n",
    "    matched_gt = set()  # Keep track of matched ground truths\n",
    "\n",
    "    for pred in predictions:\n",
    "        pred_box, pred_class = pred[:4], pred[4]\n",
    "        max_iou = 0\n",
    "        matched = None\n",
    "\n",
    "        for i, gt in enumerate(ground_truths):\n",
    "            gt_box, gt_class = gt[:4], gt[4]\n",
    "\n",
    "            # Only consider matching predictions of the same class\n",
    "            if pred_class == gt_class:\n",
    "                iou = calculate_iou(pred_box, gt_box)\n",
    "                if iou > max_iou and iou >= iou_threshold and i not in matched_gt:\n",
    "                    max_iou = iou\n",
    "                    matched = i\n",
    "\n",
    "        if matched is not None:\n",
    "            tp += 1\n",
    "            matched_gt.add(matched)\n",
    "        else:\n",
    "            fp += 1\n",
    "\n",
    "    fn = len(ground_truths) - len(matched_gt)\n",
    "\n",
    "    precision = tp / (tp + fp) if tp + fp > 0 else 0\n",
    "    recall = tp / (tp + fn) if tp + fn > 0 else 0\n",
    "\n",
    "    # For simplicity, mAP can be computed as Precision in this example\n",
    "    # In real scenarios, mAP requires averaging precision at multiple recall thresholds\n",
    "    mAP = precision\n",
    "\n",
    "    return {\"Precision\": precision, \"Recall\": recall, \"mAP\": mAP}\n",
    "\"\"\"\n",
    "# Example data\n",
    "predictions = [\n",
    "    [50, 50, 150, 150, \"car\"],  # [x_min, y_min, x_max, y_max, class]\n",
    "    [30, 30, 120, 120, \"car\"],\n",
    "]\n",
    "\n",
    "ground_truths = [\n",
    "    [40, 40, 140, 140, \"car\"],  # [x_min, y_min, x_max, y_max, class]\n",
    "    [60, 60, 170, 170, \"car\"],\n",
    "]\n",
    "\"\"\"\n",
    "\n",
    "# Extract predictions and ground truths for evaluation\n",
    "flat_predictions = []\n",
    "flat_ground_truths = []\n",
    "\n",
    "with torch.no_grad():\n",
    "    for images, labels, bboxes in test_loader:\n",
    "        images = images.to(device)\n",
    "        labels = labels.to(device)\n",
    "        bboxes = bboxes.to(device)\n",
    "\n",
    "        if labels.size(0) == 65:  # Skip small batches\n",
    "            continue\n",
    "\n",
    "        class_logits, bbox_coords = model(images)\n",
    "        predicted_classes = torch.argmax(class_logits, dim=1).cpu().numpy()\n",
    "        bbox_coords = bbox_coords.cpu().numpy()\n",
    "\n",
    "        # Flatten predictions and ground truths\n",
    "        for i in range(len(labels)):\n",
    "            flat_predictions.append(\n",
    "                [*bbox_coords[i], predicted_classes[i]]\n",
    "            )\n",
    "            flat_ground_truths.append(\n",
    "                [*bboxes[i].cpu().numpy(), labels[i].cpu().item()]\n",
    "            )\n",
    "\n",
    "# Evaluate \n",
    "results = evaluate(flat_predictions, flat_ground_truths, iou_threshold=0.1)\n",
    "results1 = evaluate(flat_predictions, flat_ground_truths, iou_threshold=0.5)\n",
    "results2 = evaluate(flat_predictions, flat_ground_truths, iou_threshold=0.8)\n",
    "results3 = evaluate(flat_predictions, flat_ground_truths, iou_threshold=1)\n",
    "\n",
    "print(\"Evaluation Results for Intersection Over Union 0.1:\", results)\n",
    "print(\"Evaluation Results for Intersection Over Union 0.5:\", results1)\n",
    "print(\"Evaluation Results for Intersection Over Union 0.8:\", results2)\n",
    "print(\"Evaluation Results for Intersection Over Union 1:\", results3)"
   ]
  },
  {
   "cell_type": "markdown",
   "id": "dc0bed28",
   "metadata": {},
   "source": [
    "### Comparison [8 pts]\n",
    "Try different backbones: the Resnet you trained and an untrained (only initialized) CNN.\n",
    "Do backbones with different architectures affect the object detection performance?\n",
    "\n",
    "Compare the pretrained and untrained backbones: Do pretrained backbones ease object detection, in your experiments? If not, why?"
   ]
  },
  {
   "cell_type": "code",
   "execution_count": 37,
   "id": "0d98fd92",
   "metadata": {},
   "outputs": [],
   "source": [
    "class ObjectDetectionNetwork(nn.Module):\n",
    "    def __init__(self, backbone):\n",
    "        super(ObjectDetectionNetwork, self).__init__()\n",
    "        self.backbone = backbone\n",
    "\n",
    "        # Classification Head\n",
    "        self.classification_head = nn.Sequential(\n",
    "            nn.Linear(backbone.linear.out_features, 256),\n",
    "            nn.ReLU(),\n",
    "            nn.BatchNorm1d(256),\n",
    "            nn.Dropout(p=0.5),\n",
    "            nn.Linear(256, 2)  # 2 classes\n",
    "        )\n",
    "\n",
    "        # Regression Head\n",
    "        self.regression_head = nn.Sequential(\n",
    "            nn.Linear(backbone.linear.out_features, 256),\n",
    "            nn.ReLU(),\n",
    "            nn.BatchNorm1d(256),\n",
    "            nn.Dropout(p=0.5),\n",
    "            nn.Linear(256, 4)  # 4 for bounding box coordinates (x_min, y_min, x_max, y_max)\n",
    "        )\n",
    "\n",
    "    def forward(self, x):\n",
    "        \n",
    "        features = self.backbone(x)\n",
    "\n",
    "        class_logits = self.classification_head(features)\n",
    "        bbox_coords = self.regression_head(features)\n",
    "\n",
    "        return class_logits, bbox_coords\n"
   ]
  },
  {
   "cell_type": "code",
   "execution_count": 38,
   "id": "7c739ef6",
   "metadata": {},
   "outputs": [
    {
     "name": "stdout",
     "output_type": "stream",
     "text": [
      "Epoch [1/20], Loss: 4732.72021484375\n",
      "Epoch [2/20], Loss: 3110.547119140625\n",
      "Epoch [3/20], Loss: 1143.47119140625\n",
      "Epoch [4/20], Loss: 517.239990234375\n",
      "Epoch [5/20], Loss: 160.1399383544922\n",
      "Epoch [6/20], Loss: 108.31385040283203\n",
      "Epoch [7/20], Loss: 123.80944061279297\n",
      "Epoch [8/20], Loss: 217.44384765625\n",
      "Epoch [9/20], Loss: 178.44569396972656\n",
      "Epoch [10/20], Loss: 118.56698608398438\n",
      "Epoch [11/20], Loss: 81.24435424804688\n",
      "Epoch [12/20], Loss: 119.46831512451172\n",
      "Epoch [13/20], Loss: 81.04442596435547\n",
      "Epoch [14/20], Loss: 95.6469497680664\n",
      "Epoch [15/20], Loss: 234.31240844726562\n",
      "Epoch [16/20], Loss: 101.31607818603516\n",
      "Epoch [17/20], Loss: 109.77178192138672\n",
      "Epoch [18/20], Loss: 130.052734375\n",
      "Epoch [19/20], Loss: 137.23597717285156\n",
      "Epoch [20/20], Loss: 210.51260375976562\n",
      "Test Loss: 76.03011703491211\n"
     ]
    }
   ],
   "source": [
    "# Loss Functions\n",
    "classification_loss = nn.CrossEntropyLoss()\n",
    "regression_loss = nn.MSELoss()\n",
    "\n",
    "device = torch.device('cuda' if torch.cuda.is_available() else 'cpu')\n",
    "backbone = networks[\"customResNet\"].to(device)  # Use the CNN model as the backbone\n",
    "model = ObjectDetectionNetwork(backbone).to(device)\n",
    "\n",
    "train_total_loss = 0.0\n",
    "train_correct = 0\n",
    "train_total = 0\n",
    "\n",
    "optimizer = torch.optim.Adam(model.parameters(), lr=0.005)\n",
    "num_epochs = 20\n",
    "\n",
    "model.train()\n",
    "# Training loop\n",
    "for epoch in range(num_epochs):\n",
    "\n",
    "    for images, labels, bboxes in train_loader:\n",
    "        images = images.to(device)\n",
    "        labels = labels.to(device)\n",
    "        bboxes = bboxes.to(device)\n",
    "\n",
    "        class_logits, bbox_coords = model(images)\n",
    "\n",
    "        class_loss = classification_loss(class_logits, labels)\n",
    "        bbox_loss = regression_loss(bbox_coords, bboxes)\n",
    "\n",
    "        total_loss = class_loss + bbox_loss\n",
    "\n",
    "        optimizer.zero_grad()\n",
    "        total_loss.backward()\n",
    "        optimizer.step()\n",
    "\n",
    "            # Calculate train accuracy\n",
    "        _, predicted = torch.max(class_logits, 1)\n",
    "        train_correct += (predicted == labels).sum().item()\n",
    "        train_total += labels.size(0)\n",
    "\n",
    "    print(f'Epoch [{epoch+1}/{num_epochs}], Loss: {total_loss.item()}')\n",
    "\n",
    "\n",
    "avg_train_loss = train_total_loss / len(train_loader)\n",
    "train_accuracy = train_correct / train_total\n",
    "\n",
    "\n",
    "# Test loop\n",
    "model.eval()\n",
    "running_loss = 0.0\n",
    "with torch.no_grad():\n",
    "    for images, labels, bboxes in test_loader:\n",
    "        images = images.to(device)\n",
    "        labels = labels.to(device)\n",
    "        bboxes = bboxes.to(device)\n",
    "\n",
    "        class_logits, bbox_coords = model(images)\n",
    "\n",
    "        if(labels.size(0) == 65):   # Skip the last batch if it's smaller than the batch size\n",
    "            continue\n",
    "\n",
    "        class_loss = classification_loss(class_logits, labels)\n",
    "        bbox_loss = regression_loss(bbox_coords, bboxes)\n",
    "\n",
    "        total_loss = class_loss + bbox_loss\n",
    "        running_loss += total_loss.item()\n",
    "\n",
    "print(f\"Test Loss: {running_loss / len(test_loader)}\")\n"
   ]
  },
  {
   "cell_type": "code",
   "execution_count": 39,
   "id": "1d5ebd2e",
   "metadata": {},
   "outputs": [
    {
     "name": "stdout",
     "output_type": "stream",
     "text": [
      "Evaluation Results for Intersection Over Union 0.1: {'Precision': 0.7478813559322034, 'Recall': 0.7478813559322034, 'mAP': 0.7478813559322034}\n",
      "Evaluation Results for Intersection Over Union 0.5: {'Precision': 0.5699152542372882, 'Recall': 0.5699152542372882, 'mAP': 0.5699152542372882}\n",
      "Evaluation Results for Intersection Over Union 0.8: {'Precision': 0.13135593220338984, 'Recall': 0.13135593220338984, 'mAP': 0.13135593220338984}\n",
      "Evaluation Results for Intersection Over Union 1: {'Precision': 0.0, 'Recall': 0.0, 'mAP': 0.0}\n"
     ]
    }
   ],
   "source": [
    "\n",
    "import numpy as np\n",
    "\n",
    "def calculate_iou(pred_box, gt_box):\n",
    "    \"\"\"\n",
    "    Calculate Intersection over Union (IoU) between two bounding boxes.\n",
    "    Args:\n",
    "        pred_box (list): [x_min, y_min, x_max, y_max] for the predicted box.\n",
    "        gt_box (list): [x_min, y_min, x_max, y_max] for the ground truth box.\n",
    "    Returns:\n",
    "        float: IoU value.\n",
    "    \"\"\"\n",
    "    # Compute intersection\n",
    "    x_min_inter = max(pred_box[0], gt_box[0])\n",
    "    y_min_inter = max(pred_box[1], gt_box[1])\n",
    "    x_max_inter = min(pred_box[2], gt_box[2])\n",
    "    y_max_inter = min(pred_box[3], gt_box[3])\n",
    "\n",
    "    inter_area = max(0, x_max_inter - x_min_inter) * max(0, y_max_inter - y_min_inter)\n",
    "    \n",
    "    # Compute union\n",
    "    pred_area = (pred_box[2] - pred_box[0]) * (pred_box[3] - pred_box[1])\n",
    "    gt_area = (gt_box[2] - gt_box[0]) * (gt_box[3] - gt_box[1])\n",
    "    union_area = pred_area + gt_area - inter_area\n",
    "\n",
    "    return inter_area / union_area if union_area > 0 else 0\n",
    "\n",
    "def evaluate(predictions, ground_truths, iou_threshold=0.5):\n",
    "    \"\"\"\n",
    "    Evaluate object detection metrics: Precision, Recall, and mAP.\n",
    "    Args:\n",
    "        predictions (list): List of predicted bounding boxes [[x_min, y_min, x_max, y_max, class], ...].\n",
    "        ground_truths (list): List of ground truth boxes [[x_min, y_min, x_max, y_max, class], ...].\n",
    "        iou_threshold (float): IoU threshold to consider a prediction correct.\n",
    "    Returns:\n",
    "        dict: Precision, Recall, and mAP scores.\n",
    "    \"\"\"\n",
    "    tp = 0  # True positives\n",
    "    fp = 0  # False positives\n",
    "    fn = 0  # False negatives\n",
    "\n",
    "    matched_gt = set()  # Keep track of matched ground truths\n",
    "\n",
    "    for pred in predictions:\n",
    "        pred_box, pred_class = pred[:4], pred[4]\n",
    "        max_iou = 0\n",
    "        matched = None\n",
    "\n",
    "        for i, gt in enumerate(ground_truths):\n",
    "            gt_box, gt_class = gt[:4], gt[4]\n",
    "\n",
    "            # Only consider matching predictions of the same class\n",
    "            if pred_class == gt_class:\n",
    "                iou = calculate_iou(pred_box, gt_box)\n",
    "                if iou > max_iou and iou >= iou_threshold and i not in matched_gt:\n",
    "                    max_iou = iou\n",
    "                    matched = i\n",
    "\n",
    "        if matched is not None:\n",
    "            tp += 1\n",
    "            matched_gt.add(matched)\n",
    "        else:\n",
    "            fp += 1\n",
    "\n",
    "    fn = len(ground_truths) - len(matched_gt)\n",
    "\n",
    "    precision = tp / (tp + fp) if tp + fp > 0 else 0\n",
    "    recall = tp / (tp + fn) if tp + fn > 0 else 0\n",
    "\n",
    "    # For simplicity, mAP can be computed as Precision in this example\n",
    "    # In real scenarios, mAP requires averaging precision at multiple recall thresholds\n",
    "    mAP = precision\n",
    "\n",
    "    return {\"Precision\": precision, \"Recall\": recall, \"mAP\": mAP}\n",
    "\"\"\"\n",
    "# Example data\n",
    "predictions = [\n",
    "    [50, 50, 150, 150, \"car\"],  # [x_min, y_min, x_max, y_max, class]\n",
    "    [30, 30, 120, 120, \"car\"],\n",
    "]\n",
    "\n",
    "ground_truths = [\n",
    "    [40, 40, 140, 140, \"car\"],  # [x_min, y_min, x_max, y_max, class]\n",
    "    [60, 60, 170, 170, \"car\"],\n",
    "]\n",
    "\"\"\"\n",
    "\n",
    "# Extract predictions and ground truths for evaluation\n",
    "flat_predictions = []\n",
    "flat_ground_truths = []\n",
    "\n",
    "with torch.no_grad():\n",
    "    for images, labels, bboxes in test_loader:\n",
    "        images = images.to(device)\n",
    "        labels = labels.to(device)\n",
    "        bboxes = bboxes.to(device)\n",
    "\n",
    "        if labels.size(0) == 65:  # Skip small batches\n",
    "            continue\n",
    "\n",
    "        class_logits, bbox_coords = model(images)\n",
    "        predicted_classes = torch.argmax(class_logits, dim=1).cpu().numpy()\n",
    "        bbox_coords = bbox_coords.cpu().numpy()\n",
    "\n",
    "        # Flatten predictions and ground truths\n",
    "        for i in range(len(labels)):\n",
    "            flat_predictions.append(\n",
    "                [*bbox_coords[i], predicted_classes[i]]\n",
    "            )\n",
    "            flat_ground_truths.append(\n",
    "                [*bboxes[i].cpu().numpy(), labels[i].cpu().item()]\n",
    "            )\n",
    "\n",
    "# Evaluate \n",
    "results = evaluate(flat_predictions, flat_ground_truths, iou_threshold=0.1)\n",
    "results1 = evaluate(flat_predictions, flat_ground_truths, iou_threshold=0.5)\n",
    "results2 = evaluate(flat_predictions, flat_ground_truths, iou_threshold=0.8)\n",
    "results3 = evaluate(flat_predictions, flat_ground_truths, iou_threshold=1)\n",
    "\n",
    "print(\"Evaluation Results for Intersection Over Union 0.1:\", results)\n",
    "print(\"Evaluation Results for Intersection Over Union 0.5:\", results1)\n",
    "print(\"Evaluation Results for Intersection Over Union 0.8:\", results2)\n",
    "print(\"Evaluation Results for Intersection Over Union 1:\", results3)"
   ]
  },
  {
   "cell_type": "code",
   "execution_count": null,
   "id": "0826f103",
   "metadata": {},
   "outputs": [],
   "source": []
  }
 ],
 "metadata": {
  "colab": {
   "provenance": []
  },
  "kernelspec": {
   "display_name": "base",
   "language": "python",
   "name": "python3"
  },
  "language_info": {
   "codemirror_mode": {
    "name": "ipython",
    "version": 3
   },
   "file_extension": ".py",
   "mimetype": "text/x-python",
   "name": "python",
   "nbconvert_exporter": "python",
   "pygments_lexer": "ipython3",
   "version": "3.12.4"
  }
 },
 "nbformat": 4,
 "nbformat_minor": 5
}
